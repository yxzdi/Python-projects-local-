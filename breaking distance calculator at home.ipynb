{
 "cells": [
  {
   "cell_type": "code",
   "execution_count": 5,
   "metadata": {},
   "outputs": [
    {
     "name": "stdout",
     "output_type": "stream",
     "text": [
      "Please enter a speed between 10 and 50km/h 30\n",
      "Is the ground wet? no\n",
      "6000.0m/h\n"
     ]
    }
   ],
   "source": [
    "#Write a Python program that calculates an estimate of the braking distance in metres for a new model of go-kart that is travelling between 10 and 50 kilometres per hour (kph).\n",
    "\n",
    "#Your program should:\n",
    "#keep asking the user to enter a speed for the go-kart until they enter a speed that is between 10 and 50\n",
    "#(inclusive)\n",
    "#calculate the braking distance in metres by dividing the speed by 5\n",
    "#ask the user if the ground is wet (expect the user to enter yes if it is)\n",
    "#if the ground is wet, multiply the braking distance by 1.5\n",
    "#output the final calculated braking distance.\n",
    "\n",
    "speed = int(input(\"Please enter a speed between 10 and 50km/h \"))\n",
    "if speed < 10:\n",
    "    print(\"Please enter a higher speed\")\n",
    "elif speed > 50:\n",
    "    print(\"Please enter a lower speed\")\n",
    "else:\n",
    "    breaking_speed = speed * 1000 / 5\n",
    "    str_speed = breaking_speed\n",
    "    no_wet_bs = str(str_speed)\n",
    "    wet = input(\"Is the ground wet? \")\n",
    "    if wet == \"yes\":\n",
    "        wet_breaking_speed = str(breaking_speed*1.5)\n",
    "        print(wet_breaking_speed + \"m/h\")\n",
    "    elif wet == \"no\":\n",
    "        print(no_wet_bs + \"m/h\")\n",
    "        \n",
    "    "
   ]
  },
  {
   "cell_type": "code",
   "execution_count": null,
   "metadata": {},
   "outputs": [],
   "source": []
  }
 ],
 "metadata": {
  "kernelspec": {
   "display_name": "Python 3",
   "language": "python",
   "name": "python3"
  },
  "language_info": {
   "codemirror_mode": {
    "name": "ipython",
    "version": 3
   },
   "file_extension": ".py",
   "mimetype": "text/x-python",
   "name": "python",
   "nbconvert_exporter": "python",
   "pygments_lexer": "ipython3",
   "version": "3.8.5"
  }
 },
 "nbformat": 4,
 "nbformat_minor": 4
}
